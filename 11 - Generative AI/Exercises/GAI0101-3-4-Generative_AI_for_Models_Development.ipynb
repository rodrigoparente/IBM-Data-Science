{
 "cells": [
  {
   "cell_type": "markdown",
   "metadata": {},
   "source": [
    "<p style=\"text-align:center\">\n",
    "    <a href=\"https://skills.network\" target=\"_blank\">\n",
    "    <img src=\"https://cf-courses-data.s3.us.cloud-object-storage.appdomain.cloud/assets/logos/SN_web_lightmode.png\" width=\"300\" alt=\"Skills Network Logo\">\n",
    "    </a>\n",
    "</p>\n"
   ]
  },
  {
   "cell_type": "markdown",
   "metadata": {},
   "source": [
    "# Test Environment for Generative AI classroom labs\n",
    "\n",
    "This lab provides a test environment for the codes generated using the Generative AI classroom.\n",
    "\n",
    "Follow the instructions below to set up this environment for further use.\n"
   ]
  },
  {
   "cell_type": "markdown",
   "metadata": {},
   "source": [
    "# Setup\n"
   ]
  },
  {
   "cell_type": "markdown",
   "metadata": {},
   "source": [
    "### Import required libraries"
   ]
  },
  {
   "cell_type": "code",
   "execution_count": 1,
   "metadata": {},
   "outputs": [],
   "source": [
    "import pandas as pd\n",
    "import numpy as np\n",
    "import matplotlib.pyplot as plt\n",
    "import seaborn as sns\n",
    "import wget"
   ]
  },
  {
   "cell_type": "markdown",
   "metadata": {},
   "source": [
    "### Downloading the Dataset URL from the GenAI lab\n",
    "Use the URL provided in the GenAI lab in the cell below. \n"
   ]
  },
  {
   "cell_type": "code",
   "execution_count": 2,
   "metadata": {},
   "outputs": [],
   "source": [
    "URL = \"https://cf-courses-data.s3.us.cloud-object-storage.appdomain.cloud/IBMDeveloperSkillsNetwork-DA0101EN-Coursera/laptop_pricing_dataset_mod2.csv\""
   ]
  },
  {
   "cell_type": "code",
   "execution_count": 3,
   "metadata": {},
   "outputs": [
    {
     "name": "stdout",
     "output_type": "stream",
     "text": [
      "100% [..............................................................................] 20119 / 20119"
     ]
    }
   ],
   "source": [
    "filename = wget.download(URL, out='dataset.csv')"
   ]
  },
  {
   "cell_type": "markdown",
   "metadata": {},
   "source": [
    "---\n"
   ]
  },
  {
   "cell_type": "markdown",
   "metadata": {},
   "source": [
    "# Importing data set"
   ]
  },
  {
   "cell_type": "markdown",
   "metadata": {},
   "source": [
    "## Prompt"
   ]
  },
  {
   "cell_type": "markdown",
   "metadata": {},
   "source": [
    "Write a python code to perform the following actions.\n",
    "1. Import a data set from a CSV file called dataset.csv, The headers for the data set must be in the first row of the CSV file."
   ]
  },
  {
   "cell_type": "markdown",
   "metadata": {},
   "source": [
    "## Generated Code"
   ]
  },
  {
   "cell_type": "code",
   "execution_count": 4,
   "metadata": {},
   "outputs": [],
   "source": [
    "import pandas as pd\n",
    "\n",
    "# 1. Import a data set from a CSV file\n",
    "df = pd.read_csv('dataset.csv')"
   ]
  },
  {
   "cell_type": "markdown",
   "metadata": {},
   "source": [
    "# Linear regression in one variable"
   ]
  },
  {
   "cell_type": "markdown",
   "metadata": {},
   "source": [
    "## Prompt"
   ]
  },
  {
   "cell_type": "markdown",
   "metadata": {},
   "source": [
    "Write a Python code that performs the following tasks.\n",
    "1. Develops and trains a linear regression model that uses the `CPU_frequency` attribute of a data frame as the source variable and `Price` as the target variable.\n",
    "2. Calculate and display the MSE and R^2 values for the trained model"
   ]
  },
  {
   "cell_type": "markdown",
   "metadata": {},
   "source": [
    "## Generated Code"
   ]
  },
  {
   "cell_type": "code",
   "execution_count": 5,
   "metadata": {},
   "outputs": [
    {
     "name": "stdout",
     "output_type": "stream",
     "text": [
      "Mean Squared Error (MSE): 284583.4405868629\n",
      "Coefficient of Determination (R^2): 0.1344436321024326\n"
     ]
    }
   ],
   "source": [
    "import pandas as pd\n",
    "from sklearn.linear_model import LinearRegression\n",
    "from sklearn.metrics import mean_squared_error, r2_score\n",
    "\n",
    "# Extract the source variable and target variable from the data frame\n",
    "X = df[['CPU_frequency']]\n",
    "y = df['Price']\n",
    "\n",
    "# Initialize a linear regression model\n",
    "model = LinearRegression()\n",
    "\n",
    "# Train the model using the source and target variables\n",
    "model.fit(X, y)\n",
    "\n",
    "# Make predictions using the trained model\n",
    "y_pred = model.predict(X)\n",
    "\n",
    "# Calculate the mean squared error (MSE)\n",
    "mse = mean_squared_error(y, y_pred)\n",
    "\n",
    "# Calculate the coefficient of determination (R^2)\n",
    "r2 = r2_score(y, y_pred)\n",
    "\n",
    "# Display the MSE and R^2 values\n",
    "print(\"Mean Squared Error (MSE):\", mse)\n",
    "print(\"Coefficient of Determination (R^2):\", r2)"
   ]
  },
  {
   "cell_type": "markdown",
   "metadata": {},
   "source": [
    "# Linear regression in multiple variables"
   ]
  },
  {
   "cell_type": "markdown",
   "metadata": {},
   "source": [
    "## Prompt"
   ]
  },
  {
   "cell_type": "markdown",
   "metadata": {},
   "source": [
    "Write a Python code that performs the following tasks.\n",
    "1. Develops and trains a linear regression model that uses the `CPU_frequency`, `RAM_GB`, `Storage_GB_SSD`, `CPU_core`, `OS`, `GPU` and `Category` attributes as the source variables and the `Price` attribute as a target variable.\n",
    "2. Calculate and display the MSE and R^2 values for the trained model."
   ]
  },
  {
   "cell_type": "markdown",
   "metadata": {},
   "source": [
    "## Generated Code"
   ]
  },
  {
   "cell_type": "code",
   "execution_count": 6,
   "metadata": {},
   "outputs": [
    {
     "name": "stdout",
     "output_type": "stream",
     "text": [
      "Mean Squared Error (MSE): 161680.5726389311\n",
      "Coefficient of Determination (R^2): 0.5082509055187374\n"
     ]
    }
   ],
   "source": [
    "import pandas as pd\n",
    "from sklearn.linear_model import LinearRegression\n",
    "from sklearn.metrics import mean_squared_error, r2_score\n",
    "\n",
    "# Extract the source variables and target variable from the data frame\n",
    "X = df[['CPU_frequency', 'RAM_GB', 'Storage_GB_SSD', 'CPU_core', 'OS', 'GPU', 'Category']]\n",
    "y = df['Price']\n",
    "\n",
    "# Initialize a linear regression model\n",
    "model = LinearRegression()\n",
    "\n",
    "# Train the model using the source and target variables\n",
    "model.fit(X, y)\n",
    "\n",
    "# Make predictions using the trained model\n",
    "y_pred = model.predict(X)\n",
    "\n",
    "# Calculate the mean squared error (MSE)\n",
    "mse = mean_squared_error(y, y_pred)\n",
    "\n",
    "# Calculate the coefficient of determination (R^2)\n",
    "r2 = r2_score(y, y_pred)\n",
    "\n",
    "# Display the MSE and R^2 values\n",
    "print(\"Mean Squared Error (MSE):\", mse)\n",
    "print(\"Coefficient of Determination (R^2):\", r2)"
   ]
  },
  {
   "cell_type": "markdown",
   "metadata": {},
   "source": [
    "# Polynomial regression"
   ]
  },
  {
   "cell_type": "markdown",
   "metadata": {},
   "source": [
    "## Prompt"
   ]
  },
  {
   "cell_type": "markdown",
   "metadata": {},
   "source": [
    "Write a Python code that performs the following tasks.\n",
    "1. Develops and trains multiple polynomial regression models, with orders 2, 3, and 5, that uses the `CPU_frequency` attribute as the source variable and the `Price` attribute as the target variable.\n",
    "2. Calculate and display the MSE and R^2 values for the trained models.\n",
    "3. Compare the performance of the models."
   ]
  },
  {
   "cell_type": "markdown",
   "metadata": {},
   "source": [
    "## Generated Code"
   ]
  },
  {
   "cell_type": "code",
   "execution_count": 7,
   "metadata": {},
   "outputs": [
    {
     "name": "stdout",
     "output_type": "stream",
     "text": [
      "Polynomial Order 2:\n",
      "Mean Squared Error (MSE): 249022.66596751162\n",
      "Coefficient of Determination (R^2): 0.24260120745423808\n",
      "\n",
      "Polynomial Order 3:\n",
      "Mean Squared Error (MSE): 241024.86303848706\n",
      "Coefficient of Determination (R^2): 0.266926407965313\n",
      "\n",
      "Polynomial Order 5:\n",
      "Mean Squared Error (MSE): 229137.2954805769\n",
      "Coefficient of Determination (R^2): 0.30308227064426285\n",
      "\n",
      "Model Comparison:\n",
      "Best Polynomial Order: 4\n",
      "Worst Polynomial Order: 4\n"
     ]
    }
   ],
   "source": [
    "import pandas as pd\n",
    "import numpy as np\n",
    "from sklearn.linear_model import LinearRegression\n",
    "from sklearn.preprocessing import PolynomialFeatures\n",
    "from sklearn.metrics import mean_squared_error, r2_score\n",
    "\n",
    "# Extract the source variable and target variable from the data frame\n",
    "X = df[['CPU_frequency']]\n",
    "y = df['Price']\n",
    "\n",
    "# Initialize lists to store the MSE and R^2 values for each model\n",
    "mse_values = []\n",
    "r2_values = []\n",
    "\n",
    "# Loop through the polynomial orders\n",
    "for order in [2, 3, 5]:\n",
    "    # Create polynomial features\n",
    "    polynomial_features = PolynomialFeatures(degree=order)\n",
    "    X_poly = polynomial_features.fit_transform(X)\n",
    "\n",
    "    # Initialize a linear regression model\n",
    "    model = LinearRegression()\n",
    "\n",
    "    # Train the model using the polynomial features and target variable\n",
    "    model.fit(X_poly, y)\n",
    "\n",
    "    # Make predictions using the trained model\n",
    "    y_pred = model.predict(X_poly)\n",
    "\n",
    "    # Calculate the mean squared error (MSE)\n",
    "    mse = mean_squared_error(y, y_pred)\n",
    "\n",
    "    # Calculate the coefficient of determination (R^2)\n",
    "    r2 = r2_score(y, y_pred)\n",
    "\n",
    "    # Append the MSE and R^2 values to the lists\n",
    "    mse_values.append(mse)\n",
    "    r2_values.append(r2)\n",
    "\n",
    "    # Display the MSE and R^2 values for the current model\n",
    "    print(f\"Polynomial Order {order}:\")\n",
    "    print(\"Mean Squared Error (MSE):\", mse)\n",
    "    print(\"Coefficient of Determination (R^2):\", r2)\n",
    "    print()\n",
    "\n",
    "# Compare the performance of the models\n",
    "best_order = np.argmin(mse_values)\n",
    "worst_order = np.argmax(r2_values)\n",
    "\n",
    "print(\"Model Comparison:\")\n",
    "print(f\"Best Polynomial Order: {best_order + 2}\")\n",
    "print(f\"Worst Polynomial Order: {worst_order + 2}\")"
   ]
  },
  {
   "cell_type": "markdown",
   "metadata": {},
   "source": [
    "# Creating a Pipeline"
   ]
  },
  {
   "cell_type": "markdown",
   "metadata": {},
   "source": [
    "## Prompt"
   ]
  },
  {
   "cell_type": "markdown",
   "metadata": {},
   "source": [
    "Write a Python code that performs the following tasks.\n",
    "1. Create a pipeline that performs parameter scaling, Polynomial Feature generation, and Linear regression.\n",
    "2. Use the `CPU_frequency`, `RAM_GB`, `Storage_GB_SSD`, `CPU_core`, `OS`, `GPU` and `Category` attributes as the source variables and the `Price` attribute as a target variable.\n",
    "3. Calculate and display the MSE and R^2 values for the trained model."
   ]
  },
  {
   "cell_type": "markdown",
   "metadata": {},
   "source": [
    "## Generated Code"
   ]
  },
  {
   "cell_type": "code",
   "execution_count": 8,
   "metadata": {},
   "outputs": [
    {
     "name": "stdout",
     "output_type": "stream",
     "text": [
      "Mean Squared Error (MSE): 120720.54092022551\n",
      "Coefficient of Determination (R^2): 0.6328302422865444\n"
     ]
    }
   ],
   "source": [
    "import pandas as pd\n",
    "import numpy as np\n",
    "from sklearn.pipeline import make_pipeline\n",
    "from sklearn.preprocessing import StandardScaler, PolynomialFeatures\n",
    "from sklearn.linear_model import LinearRegression\n",
    "from sklearn.metrics import mean_squared_error, r2_score\n",
    "\n",
    "# Extract the source variables and target variable from the data frame\n",
    "X = df[['CPU_frequency', 'RAM_GB', 'Storage_GB_SSD', 'CPU_core', 'OS', 'GPU', 'Category']]\n",
    "y = df['Price']\n",
    "\n",
    "# Create a pipeline that performs parameter scaling, polynomial feature generation, and linear regression\n",
    "pipeline = make_pipeline(\n",
    "    StandardScaler(),\n",
    "    PolynomialFeatures(degree=2),\n",
    "    LinearRegression()\n",
    ")\n",
    "\n",
    "# Train the model using the source and target variables\n",
    "pipeline.fit(X, y)\n",
    "\n",
    "# Make predictions using the trained model\n",
    "y_pred = pipeline.predict(X)\n",
    "\n",
    "# Calculate the mean squared error (MSE)\n",
    "mse = mean_squared_error(y, y_pred)\n",
    "\n",
    "# Calculate the coefficient of determination (R^2)\n",
    "r2 = r2_score(y, y_pred)\n",
    "\n",
    "# Display the MSE and R^2 values\n",
    "print(\"Mean Squared Error (MSE):\", mse)\n",
    "print(\"Coefficient of Determination (R^2):\", r2)"
   ]
  },
  {
   "cell_type": "markdown",
   "metadata": {},
   "source": [
    "# Grid search and Ridge regression"
   ]
  },
  {
   "cell_type": "markdown",
   "metadata": {},
   "source": [
    "## Prompt"
   ]
  },
  {
   "cell_type": "markdown",
   "metadata": {},
   "source": [
    "Write a Python code that performs the following tasks.\n",
    "1. Considering the `CPU_frequency`, `RAM_GB`, `Storage_GB_SSD`, `CPU_core`, `OS`, `GPU` and `Category` attributes as the source variables and the `Price` attribute as a target variable.\n",
    "2. Preprocess the source variables using polynomial features with order 2;\n",
    "3. Perform Grid search on a ridge regression model using hyperparameters:\n",
    "    - Vlues for alpha: 0.0001, 0.001, 0.01, 0.1, 1, 10\n",
    "    - Values for cross validation: 4-fold\n",
    "4. Evaluate the resulting model's MSE and R^2 values."
   ]
  },
  {
   "cell_type": "markdown",
   "metadata": {},
   "source": [
    "## Generated Code"
   ]
  },
  {
   "cell_type": "code",
   "execution_count": 9,
   "metadata": {},
   "outputs": [
    {
     "name": "stdout",
     "output_type": "stream",
     "text": [
      "Mean Squared Error (MSE): 128987.0407869957\n",
      "Coefficient of Determination (R^2): 0.6076878039733657\n"
     ]
    }
   ],
   "source": [
    "import pandas as pd\n",
    "import numpy as np\n",
    "from sklearn.model_selection import GridSearchCV, cross_val_score\n",
    "from sklearn.preprocessing import PolynomialFeatures\n",
    "from sklearn.linear_model import Ridge\n",
    "from sklearn.metrics import mean_squared_error, r2_score\n",
    "\n",
    "# Extract the source variables and target variable from the data frame\n",
    "X = df[['CPU_frequency', 'RAM_GB', 'Storage_GB_SSD', 'CPU_core', 'OS', 'GPU', 'Category']]\n",
    "y = df['Price']\n",
    "\n",
    "# Create polynomial features\n",
    "polynomial_features = PolynomialFeatures(degree=2)\n",
    "\n",
    "# Transform the source variables into polynomial features\n",
    "X_poly = polynomial_features.fit_transform(X)\n",
    "\n",
    "# Define the hyperparameter values for the grid search\n",
    "param_grid = {'alpha': [0.0001, 0.001, 0.01, 0.1, 1, 10]}\n",
    "\n",
    "# Initialize a ridge regression model\n",
    "model = Ridge()\n",
    "\n",
    "# Perform grid search with cross-validation\n",
    "grid_search = GridSearchCV(model, param_grid, cv=4)\n",
    "\n",
    "# Train the model using the polynomial features and target variable\n",
    "grid_search.fit(X_poly, y)\n",
    "\n",
    "# Make predictions using the trained model\n",
    "y_pred = grid_search.predict(X_poly)\n",
    "\n",
    "# Calculate the mean squared error (MSE)\n",
    "mse = mean_squared_error(y, y_pred)\n",
    "\n",
    "# Calculate the coefficient of determination (R^2)\n",
    "r2 = r2_score(y, y_pred)\n",
    "\n",
    "# Display the MSE and R^2 values\n",
    "print(\"Mean Squared Error (MSE):\", mse)\n",
    "print(\"Coefficient of Determination (R^2):\", r2)"
   ]
  },
  {
   "cell_type": "markdown",
   "metadata": {},
   "source": [
    "## Authors\n"
   ]
  },
  {
   "cell_type": "markdown",
   "metadata": {},
   "source": [
    "[Abhishek Gagneja](https://www.linkedin.com/in/abhishek-gagneja-23051987/)\n"
   ]
  },
  {
   "cell_type": "markdown",
   "metadata": {},
   "source": [
    "## Change Log\n"
   ]
  },
  {
   "cell_type": "markdown",
   "metadata": {},
   "source": [
    "|Date (YYYY-MM-DD)|Version|Changed By|Change Description|\n",
    "|-|-|-|-|\n",
    "|2023-12-10|0.1|Abhishek Gagneja|Initial Draft created|\n"
   ]
  },
  {
   "cell_type": "markdown",
   "metadata": {},
   "source": [
    "Copyright © 2023 IBM Corporation. All rights reserved.\n"
   ]
  }
 ],
 "metadata": {
  "kernelspec": {
   "display_name": "Python 3 (ipykernel)",
   "language": "python",
   "name": "python3"
  },
  "language_info": {
   "codemirror_mode": {
    "name": "ipython",
    "version": 3
   },
   "file_extension": ".py",
   "mimetype": "text/x-python",
   "name": "python",
   "nbconvert_exporter": "python",
   "pygments_lexer": "ipython3",
   "version": "3.10.12"
  }
 },
 "nbformat": 4,
 "nbformat_minor": 4
}
