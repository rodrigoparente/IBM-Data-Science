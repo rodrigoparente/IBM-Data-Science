{
 "cells": [
  {
   "cell_type": "markdown",
   "metadata": {},
   "source": [
    "<p style=\"text-align:center\">\n",
    "    <a href=\"https://skills.network\" target=\"_blank\">\n",
    "    <img src=\"https://cf-courses-data.s3.us.cloud-object-storage.appdomain.cloud/assets/logos/SN_web_lightmode.png\" width=\"300\" alt=\"Skills Network Logo\">\n",
    "    </a>\n",
    "</p>\n"
   ]
  },
  {
   "cell_type": "markdown",
   "metadata": {},
   "source": [
    "# Test Environment for Generative AI classroom labs\n",
    "\n",
    "This lab provides a test environment for the codes generated using the Generative AI classroom.\n",
    "\n",
    "Follow the instructions below to set up this environment for further use.\n"
   ]
  },
  {
   "cell_type": "markdown",
   "metadata": {},
   "source": [
    "# Setup\n"
   ]
  },
  {
   "cell_type": "markdown",
   "metadata": {},
   "source": [
    "### Import required libraries"
   ]
  },
  {
   "cell_type": "code",
   "execution_count": 1,
   "metadata": {},
   "outputs": [],
   "source": [
    "import pandas as pd\n",
    "import numpy as np\n",
    "import matplotlib.pyplot as plt\n",
    "import seaborn as sns\n",
    "import wget"
   ]
  },
  {
   "cell_type": "markdown",
   "metadata": {},
   "source": [
    "### Downloading the Dataset URL from the GenAI lab\n",
    "Use the URL provided in the GenAI lab in the cell below. \n"
   ]
  },
  {
   "cell_type": "code",
   "execution_count": 2,
   "metadata": {},
   "outputs": [],
   "source": [
    "URL = \"https://cf-courses-data.s3.us.cloud-object-storage.appdomain.cloud/IBMSkillsNetwork-AI0271EN-SkillsNetwork/labs/v1/m3/data/used_car_price_analysis.csv\""
   ]
  },
  {
   "cell_type": "code",
   "execution_count": 3,
   "metadata": {},
   "outputs": [
    {
     "name": "stdout",
     "output_type": "stream",
     "text": [
      "100% [............................................................................] 910928 / 910928"
     ]
    }
   ],
   "source": [
    "filename = wget.download(URL, out='dataset.csv')"
   ]
  },
  {
   "cell_type": "markdown",
   "metadata": {},
   "source": [
    "---\n"
   ]
  },
  {
   "cell_type": "markdown",
   "metadata": {},
   "source": [
    "# Importing the Dataset"
   ]
  },
  {
   "cell_type": "markdown",
   "metadata": {},
   "source": [
    "## Prompt"
   ]
  },
  {
   "cell_type": "markdown",
   "metadata": {},
   "source": [
    "Write a Python code that can perform the following tasks:\n",
    "1. Read the CSV file, named dataset.csv, into a pandas data frame, called df.\n",
    "2. Assume that the first row of the file can be used as the headers for the data.\n",
    "3. Print the first 5 rows of the dataframe to verify correct loading."
   ]
  },
  {
   "cell_type": "markdown",
   "metadata": {},
   "source": [
    "## Generated Code"
   ]
  },
  {
   "cell_type": "code",
   "execution_count": 4,
   "metadata": {},
   "outputs": [
    {
     "name": "stdout",
     "output_type": "stream",
     "text": [
      "     model  year transmission  mileage fuelType    tax   mpg  engineSize  \\\n",
      "0   Fiesta  2017    Automatic    15944   Petrol  150.0  57.7         1.0   \n",
      "1    Focus  2018       Manual     9083   Petrol  150.0  57.7         1.0   \n",
      "2    Focus  2017       Manual    12456   Petrol  150.0  57.7         1.0   \n",
      "3   Fiesta  2019       Manual    10460   Petrol  145.0  40.3         1.5   \n",
      "4   Fiesta  2019    Automatic     1482   Petrol  145.0  48.7         1.0   \n",
      "\n",
      "   price  \n",
      "0  12000  \n",
      "1  14000  \n",
      "2  13000  \n",
      "3  17500  \n",
      "4  16500  \n"
     ]
    }
   ],
   "source": [
    "import pandas as pd\n",
    "\n",
    "# Step 1: Read the CSV file into a pandas DataFrame\n",
    "df = pd.read_csv('dataset.csv')\n",
    "\n",
    "# Step 2: Print the first 5 rows of the DataFrame\n",
    "print(df.head())"
   ]
  },
  {
   "cell_type": "markdown",
   "metadata": {},
   "source": [
    "# Data Preparation"
   ]
  },
  {
   "cell_type": "markdown",
   "metadata": {},
   "source": [
    "## Prompt"
   ]
  },
  {
   "cell_type": "markdown",
   "metadata": {},
   "source": [
    "Write a python code that performs the following tasks:\n",
    "1. Identify the columns of a data frame with missing values.\n",
    "2. Replace the missing values identified with the mean value of the column.\n",
    "3. Deletes the duplicate entries from the data frame."
   ]
  },
  {
   "cell_type": "markdown",
   "metadata": {},
   "source": [
    "## Generated Code"
   ]
  },
  {
   "cell_type": "code",
   "execution_count": 5,
   "metadata": {},
   "outputs": [
    {
     "name": "stdout",
     "output_type": "stream",
     "text": [
      "Columns with missing values: ['tax']\n",
      "Replaced missing values in 'tax' with mean value: 113.3291766408729\n",
      "Removed 154 duplicate entries.\n"
     ]
    }
   ],
   "source": [
    "import pandas as pd\n",
    "\n",
    "# Step 1: Identify columns with missing values\n",
    "missing_columns = df.columns[df.isnull().any()].tolist()\n",
    "print(f\"Columns with missing values: {missing_columns}\")\n",
    "\n",
    "# Step 2: Replace missing values with the mean value of the column\n",
    "for column in missing_columns:\n",
    "    mean_value = df[column].mean()\n",
    "    df[column].fillna(mean_value, inplace=True)\n",
    "    print(f\"Replaced missing values in '{column}' with mean value: {mean_value}\")\n",
    "\n",
    "# Step 3: Delete duplicate entries from the DataFrame\n",
    "initial_row_count = df.shape[0]\n",
    "df.drop_duplicates(inplace=True)\n",
    "final_row_count = df.shape[0]\n",
    "\n",
    "print(f\"Removed {initial_row_count - final_row_count} duplicate entries.\")"
   ]
  },
  {
   "cell_type": "markdown",
   "metadata": {},
   "source": [
    "# Data Insights and Visualization"
   ]
  },
  {
   "cell_type": "markdown",
   "metadata": {},
   "source": [
    "## Identify the 5 attributes that have the highest correlation with the price parameter."
   ]
  },
  {
   "cell_type": "markdown",
   "metadata": {},
   "source": [
    "### Prompt"
   ]
  },
  {
   "cell_type": "markdown",
   "metadata": {},
   "source": [
    "Write a python code that identifies the top 5 attributes with highest correlation with the `price` attribute in a data frame."
   ]
  },
  {
   "cell_type": "markdown",
   "metadata": {},
   "source": [
    "### Generated Code"
   ]
  },
  {
   "cell_type": "code",
   "execution_count": 6,
   "metadata": {},
   "outputs": [
    {
     "name": "stdout",
     "output_type": "stream",
     "text": [
      "Top 5 attributes with highest correlation with the target attribute:\n",
      "year          0.635715\n",
      "mileage       0.530483\n",
      "engineSize    0.411451\n",
      "tax           0.405970\n",
      "mpg           0.346263\n",
      "Name: price, dtype: float64\n"
     ]
    }
   ],
   "source": [
    "import pandas as pd\n",
    "\n",
    "# Step 1: Calculate the correlation matrix\n",
    "correlation_matrix = df.corr(numeric_only=True)\n",
    "\n",
    "# Step 2: Get the correlations with the target attribute\n",
    "target_correlations = correlation_matrix['price'].abs().sort_values(ascending=False)\n",
    "\n",
    "# Step 3: Identify the top 5 attributes with the highest correlation\n",
    "top_5_attributes = target_correlations[1:6]  # Exclude the target attribute itself\n",
    "print(\"Top 5 attributes with highest correlation with the target attribute:\")\n",
    "print(top_5_attributes)"
   ]
  },
  {
   "cell_type": "markdown",
   "metadata": {},
   "source": [
    "## Count the number of cars under each unique value of fuelType attribute."
   ]
  },
  {
   "cell_type": "markdown",
   "metadata": {},
   "source": [
    "### Prompt"
   ]
  },
  {
   "cell_type": "markdown",
   "metadata": {},
   "source": [
    "Write a python code that counts the number of entries in a dataframe with each unique value of a `fuelType` attribute."
   ]
  },
  {
   "cell_type": "markdown",
   "metadata": {},
   "source": [
    "### Generated Code"
   ]
  },
  {
   "cell_type": "code",
   "execution_count": 7,
   "metadata": {},
   "outputs": [
    {
     "name": "stdout",
     "output_type": "stream",
     "text": [
      "Counts of entries for each unique value of 'fuelType':\n",
      "fuelType\n",
      "Petrol      12081\n",
      "Diesel       5706\n",
      "Hybrid         22\n",
      "Electric        2\n",
      "Other           1\n",
      "Name: count, dtype: int64\n"
     ]
    }
   ],
   "source": [
    "import pandas as pd\n",
    "\n",
    "# Count the number of entries for each unique value of the 'fuelType' attribute\n",
    "fuel_type_counts = df['fuelType'].value_counts()\n",
    "\n",
    "# Print the counts\n",
    "print(\"Counts of entries for each unique value of 'fuelType':\")\n",
    "print(fuel_type_counts)"
   ]
  },
  {
   "cell_type": "markdown",
   "metadata": {},
   "source": [
    "## Create a Box plot to determine whether cars with automatic, manual or semi-auto type of transmission have more price outliers. Use the Seaborn library for creating the plot."
   ]
  },
  {
   "cell_type": "markdown",
   "metadata": {},
   "source": [
    "### Prompt"
   ]
  },
  {
   "cell_type": "markdown",
   "metadata": {},
   "source": [
    "Write a python code that creates a Seaborn box plot between the source attribute `transmission` and the target attribute `price` of the dataframe."
   ]
  },
  {
   "cell_type": "markdown",
   "metadata": {},
   "source": [
    "### Generated Code"
   ]
  },
  {
   "cell_type": "code",
   "execution_count": 8,
   "metadata": {},
   "outputs": [
    {
     "data": {
      "image/png": "[encoded data removed]",
      "text/plain": [
       "<Figure size 1000x600 with 1 Axes>"
      ]
     },
     "metadata": {},
     "output_type": "display_data"
    }
   ],
   "source": [
    "import pandas as pd\n",
    "import seaborn as sns\n",
    "import matplotlib.pyplot as plt\n",
    "\n",
    "# Set the style for the plot\n",
    "sns.set(style=\"whitegrid\")\n",
    "\n",
    "# Create a box plot between 'transmission' and 'price'\n",
    "plt.figure(figsize=(10, 6))\n",
    "sns.boxplot(data=df, x='transmission', y='price')\n",
    "\n",
    "# Add titles and labels\n",
    "plt.title('Box Plot of Price by Transmission Type')\n",
    "plt.xlabel('Transmission Type')\n",
    "plt.ylabel('Price')\n",
    "\n",
    "# Show the plot\n",
    "plt.show()"
   ]
  },
  {
   "cell_type": "markdown",
   "metadata": {},
   "source": [
    "## Generate the regression plot between mpg parameter and the price to determine the correlation type between the two."
   ]
  },
  {
   "cell_type": "markdown",
   "metadata": {},
   "source": [
    "### Prompt"
   ]
  },
  {
   "cell_type": "markdown",
   "metadata": {},
   "source": [
    "Write a python code that creates a regression plot between the source attribute `mpg` and the target attribute `price` of the dataframe."
   ]
  },
  {
   "cell_type": "markdown",
   "metadata": {},
   "source": [
    "### Generated Code"
   ]
  },
  {
   "cell_type": "code",
   "execution_count": 9,
   "metadata": {},
   "outputs": [
    {
     "data": {
      "image/png": "[encoded data removed]",
      "text/plain": [
       "<Figure size 1000x600 with 1 Axes>"
      ]
     },
     "metadata": {},
     "output_type": "display_data"
    }
   ],
   "source": [
    "import pandas as pd\n",
    "import seaborn as sns\n",
    "import matplotlib.pyplot as plt\n",
    "\n",
    "# Set the style for the plot\n",
    "sns.set(style=\"whitegrid\")\n",
    "\n",
    "# Create a regression plot between 'mpg' and 'price'\n",
    "plt.figure(figsize=(10, 6))\n",
    "sns.regplot(data=df, x='mpg', y='price', scatter_kws={'alpha': 0.5}, line_kws={'color': 'red'})\n",
    "\n",
    "# Add titles and labels\n",
    "plt.title('Regression Plot of Price vs. MPG')\n",
    "plt.xlabel('Miles Per Gallon (MPG)')\n",
    "plt.ylabel('Price')\n",
    "\n",
    "# Show the plot\n",
    "plt.show()"
   ]
  },
  {
   "cell_type": "markdown",
   "metadata": {},
   "source": [
    "# Model Development and Evaluation"
   ]
  },
  {
   "cell_type": "markdown",
   "metadata": {},
   "source": [
    "## Fit a linear regression model to predict the price using the feature mpg. Then calculate the R^2 and MSE values for the model."
   ]
  },
  {
   "cell_type": "markdown",
   "metadata": {},
   "source": [
    "### Prompt"
   ]
  },
  {
   "cell_type": "markdown",
   "metadata": {},
   "source": [
    "Write a python code to fit a linear regression model on the target variable `price` on basis of the source variable `mpg`. Calculate the R^2 values and MSE values for this model."
   ]
  },
  {
   "cell_type": "markdown",
   "metadata": {},
   "source": [
    "### Generated Code"
   ]
  },
  {
   "cell_type": "code",
   "execution_count": 10,
   "metadata": {},
   "outputs": [
    {
     "name": "stdout",
     "output_type": "stream",
     "text": [
      "R^2 Value: 0.11989802249624182\n",
      "Mean Squared Error (MSE): 19741690.80944619\n"
     ]
    }
   ],
   "source": [
    "import pandas as pd\n",
    "from sklearn.model_selection import train_test_split\n",
    "from sklearn.linear_model import LinearRegression\n",
    "from sklearn.metrics import mean_squared_error, r2_score\n",
    "\n",
    "# Step 1: Select the features and target variable\n",
    "X = df[['mpg']]  # Feature\n",
    "y = df['price']  # Target variable\n",
    "\n",
    "# Step 3: Fit the linear regression model\n",
    "model = LinearRegression()\n",
    "model.fit(X, y)\n",
    "\n",
    "# Step 4: Make predictions on the test set\n",
    "y_pred = model.predict(X)\n",
    "\n",
    "# Step 5: Calculate R^2 and MSE\n",
    "r_squared = r2_score(y, y_pred)\n",
    "mse = mean_squared_error(y, y_pred)\n",
    "\n",
    "# Print the results\n",
    "print(f\"R^2 Value: {r_squared}\")\n",
    "print(f\"Mean Squared Error (MSE): {mse}\")"
   ]
  },
  {
   "cell_type": "markdown",
   "metadata": {},
   "source": [
    "## Fit a linear regression model to predict the price using year, mileage, tax, mpg, and engineSize. Also, calculate the R^2 and MSE values for this model."
   ]
  },
  {
   "cell_type": "markdown",
   "metadata": {},
   "source": [
    "### Prompt"
   ]
  },
  {
   "cell_type": "markdown",
   "metadata": {},
   "source": [
    "Write a python code to fit a linear regression model on a target variable `price` on basis of a set of source variables `year`, `mileage`, `tax`, `mpg`, and `engineSize`. Calculate the R^2 values and MSE values for this model."
   ]
  },
  {
   "cell_type": "markdown",
   "metadata": {},
   "source": [
    "### Generated Code"
   ]
  },
  {
   "cell_type": "code",
   "execution_count": 11,
   "metadata": {},
   "outputs": [
    {
     "name": "stdout",
     "output_type": "stream",
     "text": [
      "R^2 Value: 0.7265379654546995\n",
      "Mean Squared Error (MSE): 6134065.224381753\n"
     ]
    }
   ],
   "source": [
    "import pandas as pd\n",
    "from sklearn.model_selection import train_test_split\n",
    "from sklearn.linear_model import LinearRegression\n",
    "from sklearn.metrics import mean_squared_error, r2_score\n",
    "\n",
    "# Step 1: Select the features and target variable\n",
    "X = df[['year', 'mileage', 'tax', 'mpg', 'engineSize']]  # Features\n",
    "y = df['price']  # Target variable\n",
    "\n",
    "# Step 3: Fit the linear regression model\n",
    "model = LinearRegression()\n",
    "model.fit(X, y)\n",
    "\n",
    "# Step 4: Make predictions on the test set\n",
    "y_pred = model.predict(X)\n",
    "\n",
    "# Step 5: Calculate R^2 and MSE\n",
    "r_squared = r2_score(y, y_pred)\n",
    "mse = mean_squared_error(y, y_pred)\n",
    "\n",
    "# Print the results\n",
    "print(f\"R^2 Value: {r_squared}\")\n",
    "print(f\"Mean Squared Error (MSE): {mse}\")"
   ]
  },
  {
   "cell_type": "markdown",
   "metadata": {},
   "source": [
    "## For the same set of features as in the question above, create a pipeline model object that uses standard scalar, second degree polynomial features and a linear regression model. Calculate the R^2 value and the MSE value for this model."
   ]
  },
  {
   "cell_type": "markdown",
   "metadata": {},
   "source": [
    "### Prompt"
   ]
  },
  {
   "cell_type": "markdown",
   "metadata": {},
   "source": [
    "Write a python code that can perform the following tasks.\n",
    "\n",
    "1. Create a pipeline with standard scalar, second degree polynomial features and linear regression model.\n",
    "2. Fit this pipeline for a target variable `price` using a set of source attributes `year`, `mileage`, `tax`, `mpg`, and `engineSize`, from a dataframe.\n",
    "3. Evaluate the R^2 and MSE values for the trained model."
   ]
  },
  {
   "cell_type": "markdown",
   "metadata": {},
   "source": [
    "### Generated Code"
   ]
  },
  {
   "cell_type": "code",
   "execution_count": 12,
   "metadata": {},
   "outputs": [
    {
     "name": "stdout",
     "output_type": "stream",
     "text": [
      "R^2 Value: 0.7666619695239302\n",
      "Mean Squared Error (MSE): 5234038.06546274\n"
     ]
    }
   ],
   "source": [
    "import pandas as pd\n",
    "from sklearn.model_selection import train_test_split\n",
    "from sklearn.pipeline import Pipeline\n",
    "from sklearn.preprocessing import StandardScaler, PolynomialFeatures\n",
    "from sklearn.linear_model import LinearRegression\n",
    "from sklearn.metrics import mean_squared_error, r2_score\n",
    "\n",
    "# Step 1: Select the features and target variable\n",
    "X = df[['year', 'mileage', 'tax', 'mpg', 'engineSize']]  # Features\n",
    "y = df['price']  # Target variable\n",
    "\n",
    "# Step 3: Create a pipeline\n",
    "pipeline = Pipeline([\n",
    "    ('scaler', StandardScaler()),                     # Standard scaling\n",
    "    ('poly_features', PolynomialFeatures(degree=2)),  # Second-degree polynomial features\n",
    "    ('model', LinearRegression())                     # Linear regression model\n",
    "])\n",
    "\n",
    "# Step 4: Fit the pipeline on the training data\n",
    "pipeline.fit(X, y)\n",
    "\n",
    "# Step 5: Make predictions on the test set\n",
    "y_pred = pipeline.predict(X)\n",
    "\n",
    "# Step 6: Calculate R^2 and MSE\n",
    "r_squared = r2_score(y, y_pred)\n",
    "mse = mean_squared_error(y, y_pred)\n",
    "\n",
    "# Print the results\n",
    "print(f\"R^2 Value: {r_squared}\")\n",
    "print(f\"Mean Squared Error (MSE): {mse}\")"
   ]
  },
  {
   "cell_type": "markdown",
   "metadata": {},
   "source": [
    "## For the same set of features, split the data into training and testing data parts. Assume testing part to be 20%. Create and fit a Ridge regression object using the training data, set the regularization parameter to 0.1, and calculate the R^2 using the test data."
   ]
  },
  {
   "cell_type": "markdown",
   "metadata": {},
   "source": [
    "### Prompt"
   ]
  },
  {
   "cell_type": "markdown",
   "metadata": {},
   "source": [
    "Write a python code that can perform the following tasks.\n",
    "\n",
    "1. Assuming that a subset of the attributes of a dataframe are source attributes (`year`, `mileage`, `tax`, `mpg`, and `engineSize`) and one of the attributes is a target attribute (`price`), split the data into training and testing data assuming the testing data to be 20%.\n",
    "2. Create and fit a Ridge regression model using the training data, setting the regularization parameter to 0.1.\n",
    "3. Calculate the MSE and R^2 values for the Ridge Regression model using the testing data."
   ]
  },
  {
   "cell_type": "markdown",
   "metadata": {},
   "source": [
    "### Generated Code"
   ]
  },
  {
   "cell_type": "code",
   "execution_count": 13,
   "metadata": {},
   "outputs": [
    {
     "name": "stdout",
     "output_type": "stream",
     "text": [
      "Mean Squared Error (MSE): 6912725.801054859\n",
      "R^2 Value: 0.6917134446113167\n"
     ]
    }
   ],
   "source": [
    "import pandas as pd\n",
    "from sklearn.model_selection import train_test_split\n",
    "from sklearn.linear_model import Ridge\n",
    "from sklearn.metrics import mean_squared_error, r2_score\n",
    "\n",
    "# Step 1: Select the features and target variable\n",
    "X = df[['year', 'mileage', 'tax', 'mpg', 'engineSize']]  # Features\n",
    "y = df['price']  # Target variable\n",
    "\n",
    "# Step 2: Split the data into training and testing sets (80% training, 20% testing)\n",
    "X_train, X_test, y_train, y_test = train_test_split(X, y, test_size=0.2, random_state=42)\n",
    "\n",
    "# Step 3: Create and fit a Ridge regression model with a regularization parameter of 0.1\n",
    "ridge_model = Ridge(alpha=0.1)  # Set the regularization parameter\n",
    "ridge_model.fit(X_train, y_train)\n",
    "\n",
    "# Step 4: Make predictions on the test set\n",
    "y_pred = ridge_model.predict(X_test)\n",
    "\n",
    "# Step 5: Calculate MSE and R^2\n",
    "mse = mean_squared_error(y_test, y_pred)\n",
    "r_squared = r2_score(y_test, y_pred)\n",
    "\n",
    "# Print the results\n",
    "print(f\"Mean Squared Error (MSE): {mse}\")\n",
    "print(f\"R^2 Value: {r_squared}\")"
   ]
  },
  {
   "cell_type": "markdown",
   "metadata": {},
   "source": [
    "## Perform a second order polynomial transform on both the training data and testing data created for the question above. Create and fit a Ridge regression object using the modified training data, set the regularisation parameter to 0.1, and calculate the R^2 and MSE utilising the modified test data."
   ]
  },
  {
   "cell_type": "markdown",
   "metadata": {},
   "source": [
    "### Prompt"
   ]
  },
  {
   "cell_type": "markdown",
   "metadata": {},
   "source": [
    "Write a python code that can perform the following tasks.\n",
    "1. Assuming that a subset of the attributes of a dataframe are source attributes (`year`, `mileage`, `tax`, `mpg`, and `engineSize`) and one of the attributes is a target attribute (`price`), split the data into training and testing data assuming the testing data to be 20%.\n",
    "2. Apply second degree polynomial scaling to the training and testing data.\n",
    "3. Create and fit a Ridge regression model using the training data, setting the regularization parameter to 0.1.\n",
    "4. Calculate the MSE and R^2 values for the Ridge Regression model using the testing data."
   ]
  },
  {
   "cell_type": "markdown",
   "metadata": {},
   "source": [
    "### Generated Code"
   ]
  },
  {
   "cell_type": "code",
   "execution_count": 14,
   "metadata": {},
   "outputs": [
    {
     "name": "stdout",
     "output_type": "stream",
     "text": [
      "Mean Squared Error (MSE): 6919635.718803026\n",
      "R^2 Value: 0.69140528328655\n"
     ]
    }
   ],
   "source": [
    "import pandas as pd\n",
    "from sklearn.model_selection import train_test_split\n",
    "from sklearn.preprocessing import PolynomialFeatures\n",
    "from sklearn.linear_model import Ridge\n",
    "from sklearn.metrics import mean_squared_error, r2_score\n",
    "from sklearn.pipeline import Pipeline\n",
    "from sklearn.preprocessing import StandardScaler\n",
    "\n",
    "# Load the DataFrame (assuming it has already been loaded into df)\n",
    "# df = pd.read_csv('dataset.csv')  # Uncomment this line if you need to load the data\n",
    "\n",
    "# Step 1: Select the features and target variable\n",
    "X = df[['year', 'mileage', 'tax', 'mpg', 'engineSize']]  # Features\n",
    "y = df['price']  # Target variable\n",
    "\n",
    "# Step 2: Split the data into training and testing sets (80% training, 20% testing)\n",
    "X_train, X_test, y_train, y_test = train_test_split(X, y, test_size=0.2, random_state=42)\n",
    "\n",
    "# Step 3: Create a pipeline for polynomial features and Ridge regression\n",
    "pipeline = Pipeline([\n",
    "    ('poly_features', PolynomialFeatures(degree=2)),  # Second degree polynomial features\n",
    "    ('scaler', StandardScaler()),                     # Standard scaling\n",
    "    ('ridge', Ridge(alpha=0.1))                       # Ridge regression model\n",
    "])\n",
    "\n",
    "# Step 4: Fit the pipeline on the training data\n",
    "pipeline.fit(X_train, y_train)\n",
    "\n",
    "# Step 5: Make predictions on the test set\n",
    "y_pred = pipeline.predict(X_test)\n",
    "\n",
    "# Step 6: Calculate MSE and R^2\n",
    "mse = mean_squared_error(y_test, y_pred)\n",
    "r_squared = r2_score(y_test, y_pred)\n",
    "\n",
    "# Print the results\n",
    "print(f\"Mean Squared Error (MSE): {mse}\")\n",
    "print(f\"R^2 Value: {r_squared}\")"
   ]
  },
  {
   "cell_type": "markdown",
   "metadata": {},
   "source": [
    "## In the question above, perform a Grid Search on ridge regression for a set of values of alpha {0.01, 0.1, 1, 10, 100} with 4-fold cross validation to find the optimum value of alpha to be used for the prediction model."
   ]
  },
  {
   "cell_type": "markdown",
   "metadata": {},
   "source": [
    "### Prompt"
   ]
  },
  {
   "cell_type": "markdown",
   "metadata": {},
   "source": [
    "Write a python code that can perform the following tasks.\n",
    "1. Assuming that a subset of the attributes of a dataframe are source attributes (`year`, `mileage`, `tax`, `mpg`, and `engineSize`) and one of the attributes is a target attribute (`price`), split the data into training and testing data assuming the testing data to be 20%.\n",
    "2. Apply second degree polynomial scaling to the training and testing data.\n",
    "3. Create and fit a Grid search on Ridge regression with cross validation using the training data, for the following set of values:\n",
    "    - alpha: 0.01, 0.1, 10, 100\n",
    "    - cross-validation: 4\n",
    "5. Calculate the MSE and R^2 values for the Ridge Regression model using the testing data."
   ]
  },
  {
   "cell_type": "markdown",
   "metadata": {},
   "source": [
    "### Generated Code"
   ]
  },
  {
   "cell_type": "code",
   "execution_count": 15,
   "metadata": {},
   "outputs": [
    {
     "name": "stdout",
     "output_type": "stream",
     "text": [
      "Best alpha value: 0.01\n",
      "Mean Squared Error (MSE): 8943742.343193403\n",
      "R^2 Value: 0.6011362813137677\n"
     ]
    }
   ],
   "source": [
    "import pandas as pd\n",
    "from sklearn.model_selection import train_test_split, GridSearchCV\n",
    "from sklearn.preprocessing import PolynomialFeatures, StandardScaler\n",
    "from sklearn.linear_model import Ridge\n",
    "from sklearn.metrics import mean_squared_error, r2_score\n",
    "from sklearn.pipeline import Pipeline\n",
    "\n",
    "# Step 1: Select the features and target variable\n",
    "X = df[['year', 'mileage', 'tax', 'mpg', 'engineSize']]  # Features\n",
    "y = df['price']                                          # Target variable\n",
    "\n",
    "# Step 2: Split the data into training and testing sets (80% training, 20% testing)\n",
    "X_train, X_test, y_train, y_test = train_test_split(X, y, test_size=0.2, random_state=42)\n",
    "\n",
    "# Step 3: Create a pipeline for polynomial features and Ridge regression\n",
    "pipeline = Pipeline([\n",
    "    ('poly_features', PolynomialFeatures(degree=2)),  # Second degree polynomial features\n",
    "    ('scaler', StandardScaler()),                     # Standard scaling\n",
    "    ('ridge', Ridge())                                # Ridge regression model\n",
    "])\n",
    "\n",
    "# Step 4: Set up the parameter grid for alpha values\n",
    "param_grid = {\n",
    "    'ridge__alpha': [0.01, 0.1, 10, 100]  # Set of alpha values to try\n",
    "}\n",
    "\n",
    "# Step 5: Create a GridSearchCV object with 4-fold cross-validation\n",
    "grid_search = GridSearchCV(pipeline, param_grid, cv=4)\n",
    "\n",
    "# Step 6: Fit the grid search on the training data\n",
    "grid_search.fit(X_train, y_train)\n",
    "\n",
    "# Step 7: Get the best model from grid search\n",
    "best_model = grid_search.best_estimator_\n",
    "\n",
    "# Step 8: Make predictions on the test set using the best model\n",
    "y_pred = best_model.predict(X_test)\n",
    "\n",
    "# Step 9: Calculate MSE and R^2\n",
    "mse = mean_squared_error(y_test, y_pred)\n",
    "r_squared = r2_score(y_test, y_pred)\n",
    "\n",
    "# Print the results\n",
    "print(f\"Best alpha value: {grid_search.best_params_['ridge__alpha']}\")\n",
    "print(f\"Mean Squared Error (MSE): {mse}\")\n",
    "print(f\"R^2 Value: {r_squared}\")"
   ]
  },
  {
   "cell_type": "markdown",
   "metadata": {},
   "source": [
    "## Authors\n"
   ]
  },
  {
   "cell_type": "markdown",
   "metadata": {},
   "source": [
    "[Abhishek Gagneja](https://www.linkedin.com/in/abhishek-gagneja-23051987/)\n"
   ]
  },
  {
   "cell_type": "markdown",
   "metadata": {},
   "source": [
    "## Change Log\n"
   ]
  },
  {
   "cell_type": "markdown",
   "metadata": {},
   "source": [
    "|Date (YYYY-MM-DD)|Version|Changed By|Change Description|\n",
    "|-|-|-|-|\n",
    "|2023-12-10|0.1|Abhishek Gagneja|Initial Draft created|\n"
   ]
  },
  {
   "cell_type": "markdown",
   "metadata": {},
   "source": [
    "Copyright © 2023 IBM Corporation. All rights reserved.\n"
   ]
  }
 ],
 "metadata": {
  "kernelspec": {
   "display_name": "Python 3 (ipykernel)",
   "language": "python",
   "name": "python3"
  },
  "language_info": {
   "codemirror_mode": {
    "name": "ipython",
    "version": 3
   },
   "file_extension": ".py",
   "mimetype": "text/x-python",
   "name": "python",
   "nbconvert_exporter": "python",
   "pygments_lexer": "ipython3",
   "version": "3.10.12"
  }
 },
 "nbformat": 4,
 "nbformat_minor": 4
}
